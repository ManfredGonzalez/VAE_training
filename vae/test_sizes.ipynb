{
 "cells": [
  {
   "cell_type": "code",
   "execution_count": 2,
   "id": "7612fa40",
   "metadata": {},
   "outputs": [
    {
     "name": "stderr",
     "output_type": "stream",
     "text": [
      "/home/rtxmsi1/anaconda3/envs/diffusion-env/lib/python3.13/site-packages/torch/cuda/__init__.py:129: UserWarning: CUDA initialization: CUDA unknown error - this may be due to an incorrectly set up environment, e.g. changing env variable CUDA_VISIBLE_DEVICES after program start. Setting the available devices to be zero. (Triggered internally at /pytorch/c10/cuda/CUDAFunctions.cpp:109.)\n",
      "  return torch._C._cuda_getDeviceCount() > 0\n"
     ]
    },
    {
     "name": "stdout",
     "output_type": "stream",
     "text": [
      "Input shape:     torch.Size([4, 3, 64, 64])\n",
      "Reconstruction:  torch.Size([4, 3, 64, 64])\n",
      "VQ Loss:         0.1028861552476883\n"
     ]
    }
   ],
   "source": [
    "from vq_vae import VQVAE\n",
    "\n",
    "import torch \n",
    "\n",
    "model = VQVAE(num_embeddings=512, embedding_dim=128)\n",
    "dummy_input = torch.randn(4, 3, 64, 64)  # batch of 4 RGB images, 64x64\n",
    "x_recon, vq_loss = model(dummy_input)\n",
    "\n",
    "print(\"Input shape:    \", dummy_input.shape)\n",
    "print(\"Reconstruction: \", x_recon.shape)\n",
    "print(\"VQ Loss:        \", vq_loss.item())"
   ]
  }
 ],
 "metadata": {
  "kernelspec": {
   "display_name": "diffusion-env",
   "language": "python",
   "name": "python3"
  },
  "language_info": {
   "codemirror_mode": {
    "name": "ipython",
    "version": 3
   },
   "file_extension": ".py",
   "mimetype": "text/x-python",
   "name": "python",
   "nbconvert_exporter": "python",
   "pygments_lexer": "ipython3",
   "version": "3.13.2"
  }
 },
 "nbformat": 4,
 "nbformat_minor": 5
}
