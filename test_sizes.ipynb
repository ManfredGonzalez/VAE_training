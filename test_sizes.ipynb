{
 "cells": [
  {
   "cell_type": "code",
   "execution_count": 2,
   "id": "86857479",
   "metadata": {},
   "outputs": [],
   "source": [
    "import torch\n",
    "import torch.nn as nn\n",
    "import torch.optim as optim\n",
    "import torchvision\n",
    "import torchvision.transforms as transforms\n",
    "import numpy as np\n",
    "import matplotlib.pyplot as plt\n",
    "from torch.utils.data import DataLoader\n",
    "from torchvision.datasets import CIFAR10"
   ]
  },
  {
   "cell_type": "code",
   "execution_count": 3,
   "id": "964e7960",
   "metadata": {},
   "outputs": [],
   "source": [
    "from VAE import VAE"
   ]
  },
  {
   "cell_type": "code",
   "execution_count": 4,
   "id": "a803173d",
   "metadata": {},
   "outputs": [
    {
     "name": "stdout",
     "output_type": "stream",
     "text": [
      "torch.Size([8, 3, 64, 64])\n",
      "torch.Size([8, 4, 8, 8])\n",
      "torch.Size([8, 4, 8, 8])\n"
     ]
    }
   ],
   "source": [
    "import torch\n",
    "\n",
    "# Example: a batch of 8 RGB images, each of size 64x64 pixels\n",
    "batch_size = 8\n",
    "height, width = 64, 64\n",
    "x = torch.randn(batch_size, 3, height, width)  # Random tensor representing the images\n",
    "\n",
    "# Pass the input through the VAE\n",
    "vae = VAE()\n",
    "reconstruction, mean, logvar = vae(x)\n",
    "\n",
    "print(reconstruction.shape)  # Output shape of the reconstructed images\n",
    "print(mean.shape)           # Output shape of the mean vector from the encoder\n",
    "print(logvar.shape)         # Output shape of the log-variance vector from the encoder\n"
   ]
  },
  {
   "cell_type": "code",
   "execution_count": 5,
   "id": "d309ab3f",
   "metadata": {},
   "outputs": [
    {
     "name": "stdout",
     "output_type": "stream",
     "text": [
      "Latent shape: torch.Size([8, 4, 8, 8])\n",
      "Mean shape: torch.Size([8, 4, 8, 8])\n",
      "Log Variance shape: torch.Size([8, 4, 8, 8])\n"
     ]
    }
   ],
   "source": [
    "import torch\n",
    "\n",
    "# Initialize the VAE encoder\n",
    "encoder = vae.encoder\n",
    "\n",
    "# Example input: a batch of 8 RGB images, each 64x64 pixels\n",
    "batch_size = 8\n",
    "height, width = 64, 64\n",
    "x = torch.randn(batch_size, 3, height, width)  # Random tensor representing the images\n",
    "\n",
    "# Example noise input: Random tensor with the required shape (Batch_Size, 4, Height / 8, Width / 8)\n",
    "noise = torch.randn(batch_size, 4, height // 8, width // 8)  # Random noise tensor\n",
    "\n",
    "# Pass the input through the encoder\n",
    "latent, mean, log_variance = encoder(x, noise)\n",
    "\n",
    "print(f\"Latent shape: {latent.shape}\")\n",
    "print(f\"Mean shape: {mean.shape}\")\n",
    "print(f\"Log Variance shape: {log_variance.shape}\")\n"
   ]
  },
  {
   "cell_type": "code",
   "execution_count": 6,
   "id": "7109cb39",
   "metadata": {},
   "outputs": [
    {
     "name": "stdout",
     "output_type": "stream",
     "text": [
      "Reconstructed image shape: torch.Size([8, 3, 64, 64])\n"
     ]
    }
   ],
   "source": [
    "import torch\n",
    "\n",
    "# Example: Create a random latent vector from the encoder's output (e.g., (Batch_Size, 4, Height / 8, Width / 8))\n",
    "batch_size = 8\n",
    "height, width = 64, 64\n",
    "latent = torch.randn(batch_size, 4, height // 8, width // 8)  # Random tensor representing the latent space\n",
    "\n",
    "# Initialize the VAE decoder\n",
    "decoder = vae.decoder\n",
    "\n",
    "# Pass the latent vector through the decoder to get the reconstructed image\n",
    "reconstructed_image = decoder(latent)\n",
    "\n",
    "print(f\"Reconstructed image shape: {reconstructed_image.shape}\")\n"
   ]
  },
  {
   "cell_type": "code",
   "execution_count": 7,
   "id": "ee77e700",
   "metadata": {},
   "outputs": [
    {
     "name": "stdout",
     "output_type": "stream",
     "text": [
      "MSE Loss: 1.914104700088501\n"
     ]
    }
   ],
   "source": [
    "import torch\n",
    "import torch.nn as nn\n",
    "\n",
    "# Example: Predicted and True values (tensor)\n",
    "y_pred = torch.randn(batch_size, 4, height // 8, width // 8)\n",
    "y_true = torch.randn(batch_size, 4, height // 8, width // 8)\n",
    "\n",
    "# MSE Loss function\n",
    "mse_loss = nn.MSELoss()\n",
    "\n",
    "# Compute the MSE loss\n",
    "loss = mse_loss(y_pred, y_true)\n",
    "\n",
    "print(f'MSE Loss: {loss.item()}')\n"
   ]
  }
 ],
 "metadata": {
  "kernelspec": {
   "display_name": "diffusion-env",
   "language": "python",
   "name": "python3"
  },
  "language_info": {
   "codemirror_mode": {
    "name": "ipython",
    "version": 3
   },
   "file_extension": ".py",
   "mimetype": "text/x-python",
   "name": "python",
   "nbconvert_exporter": "python",
   "pygments_lexer": "ipython3",
   "version": "3.13.2"
  }
 },
 "nbformat": 4,
 "nbformat_minor": 5
}
